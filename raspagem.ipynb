{
 "cells": [
  {
   "cell_type": "markdown",
   "metadata": {},
   "source": [
    "# Resumo do projeto\n",
    "**- Este simples projeto se baseia em um raspagem de dados pequena utilizando Selenium**\n",
    "\n"
   ]
  },
  {
   "cell_type": "markdown",
   "metadata": {},
   "source": [
    "**- Importações Necessárias**"
   ]
  },
  {
   "cell_type": "code",
   "execution_count": null,
   "metadata": {},
   "outputs": [],
   "source": [
    "# Importações Necessárias para abrir o google chrome sem precisar baixar o webdriver(Ele estará sempre atualizado com essas importações feitas)\n",
    "from selenium import webdriver\n",
    "from selenium.webdriver.chrome.service import Service\n",
    "from webdriver_manager.chrome import ChromeDriverManager\n",
    "from selenium.webdriver.common.by import By\n",
    "\n",
    "servico = Service(ChromeDriverManager().install())\n",
    "navegador = webdriver.Chrome(service=servico)\n",
    "#-------------------------------------------------------------\n",
    "import openpyxl"
   ]
  },
  {
   "cell_type": "markdown",
   "metadata": {},
   "source": [
    "**- Fazendo requisição ao site de exemplo e extraindo as informações(títulos,preços)**"
   ]
  },
  {
   "cell_type": "code",
   "execution_count": null,
   "metadata": {},
   "outputs": [],
   "source": [
    "# acessar o site (requisitando)\n",
    "navegador.get('https://www.novaliderinformatica.com.br/computadores-gamers')\n",
    "\n",
    "# extrair todos os títulos\n",
    "titulos = navegador.find_elements(By.XPATH,\"//a[@class='nome-produto']\")\n",
    "# extrair todos os preços\n",
    "precos = navegador.find_elements(By.XPATH,\"//strong[@class='preco-promocional']\")"
   ]
  },
  {
   "cell_type": "markdown",
   "metadata": {},
   "source": [
    "**-Trabalhando com excel, (criando planilha e criando duas colunas com os nomes(Produto,Preço)**"
   ]
  },
  {
   "cell_type": "code",
   "execution_count": null,
   "metadata": {},
   "outputs": [],
   "source": [
    "# Criando a planilha\n",
    "workbook = openpyxl.Workbook()\n",
    "# Criando a página 'produtos'\n",
    "workbook.create_sheet('produtos') # criando a página/janela do excel\n",
    "# Seleciono a página/janela produtos\n",
    "sheet_produtos = workbook['produtos']\n",
    "sheet_produtos['A1'].value = 'Produto'\n",
    "sheet_produtos['B1'].value = 'Preço'"
   ]
  },
  {
   "cell_type": "markdown",
   "metadata": {},
   "source": [
    "**-Armazenando as informações do (produto,preço) nas colunas da planilha conforme criada**"
   ]
  },
  {
   "cell_type": "code",
   "execution_count": null,
   "metadata": {},
   "outputs": [],
   "source": [
    "# inserir os títulos e preços na planilha\n",
    "for titulo, preco in zip(titulos, precos): # O zip serve para trabalhar com duas listas de informações e assim que chegar em uma lista que não tiver elemente e a outra sim o \"for\" irá parar\n",
    "    sheet_produtos.append([titulo.text,preco.text])\n",
    "\n",
    "workbook.save('produtos.xlsx')\n"
   ]
  }
 ],
 "metadata": {
  "language_info": {
   "name": "python"
  }
 },
 "nbformat": 4,
 "nbformat_minor": 2
}
